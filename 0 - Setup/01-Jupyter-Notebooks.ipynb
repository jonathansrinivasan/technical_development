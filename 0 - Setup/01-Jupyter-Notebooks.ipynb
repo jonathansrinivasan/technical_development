{
 "cells": [
  {
   "cell_type": "markdown",
   "metadata": {},
   "source": [
    "# Installation"
   ]
  },
  {
   "cell_type": "markdown",
   "metadata": {},
   "source": [
    "#### 1. Update and Upgrade Packages\n",
    "\n",
    "**`sudo apt upgrade && sudo apt -y upgrade`**\n",
    "\n",
    "#### 2. Install Python\n",
    "\n",
    "**`sudo apt install python3-pip python3-dev`**\n",
    "\n",
    "#### 3. Install Python virtualenv (Optional)\n",
    "\n",
    "**`sudo -H pip3 install --upgrade pip`** or **`sudo apt install --upgrade pip`**                          \n",
    "**`sudo -H pip3 install virtualenv`** or **`sudo apt install virtualenv`**\n",
    "\n",
    "#### 4. Create Python Virutal Environment (Optional)\n",
    "\n",
    "**`mkdir notebook`**\n",
    "**`cd notebook`**\n",
    "**`virtualenv jupyterenv`**\n",
    "**`source jupyterenv/bin/activate`**\n",
    "\n",
    "#### 5. Install Jupyter Notebook\n",
    "\n",
    "**`pip install jupyter`**\n",
    "\n",
    "#### 6. Run Jupyter Notebook\n",
    "\n",
    "**`jupyter notebook`**"
   ]
  },
  {
   "cell_type": "markdown",
   "metadata": {},
   "source": [
    "----------------------------------------------------------------------------------------------------------------------"
   ]
  },
  {
   "cell_type": "markdown",
   "metadata": {},
   "source": [
    "# What is a Jupyter Notebook"
   ]
  },
  {
   "cell_type": "markdown",
   "metadata": {},
   "source": [
    "A Jupyter Notebook is an interactive computing environment that allows you to create and share documents containing live code, equations, visualizations, and explanatory text.\n",
    "\n",
    "A Jupyter Notebook consists of cells. There are two main types of cells:\n",
    "\n",
    "**Code** cells are used to write and execute code. You can write Python code in these cells and run it by pressing Shift + Enter or clicking the \"Run\" button in the toolbar.\n",
    "\n",
    "**Markdown** cells are used to write text, formatted using Markdown syntax. You can write explanations, documentation, or even LaTeX equations in these cells."
   ]
  },
  {
   "cell_type": "markdown",
   "metadata": {},
   "source": [
    "----------------------------------------------------------------------------------------------------------------------"
   ]
  },
  {
   "cell_type": "markdown",
   "metadata": {},
   "source": [
    "If you want a more detailed breakdown of Jupyter Notebooks, visit [A BEGINNER'S TUTORIAL](https://www.dataquest.io/blog/jupyter-notebook-tutorial/)"
   ]
  }
 ],
 "metadata": {
  "hide_input": false,
  "kernelspec": {
   "display_name": "Python 3 (ipykernel)",
   "language": "python",
   "name": "python3"
  },
  "language_info": {
   "codemirror_mode": {
    "name": "ipython",
    "version": 3
   },
   "file_extension": ".py",
   "mimetype": "text/x-python",
   "name": "python",
   "nbconvert_exporter": "python",
   "pygments_lexer": "ipython3",
   "version": "3.9.6"
  },
  "toc": {
   "base_numbering": 1,
   "nav_menu": {},
   "number_sections": true,
   "sideBar": true,
   "skip_h1_title": false,
   "title_cell": "Table of Contents",
   "title_sidebar": "Contents",
   "toc_cell": false,
   "toc_position": {},
   "toc_section_display": true,
   "toc_window_display": true
  },
  "varInspector": {
   "cols": {
    "lenName": 16,
    "lenType": 16,
    "lenVar": 40
   },
   "kernels_config": {
    "python": {
     "delete_cmd_postfix": "",
     "delete_cmd_prefix": "del ",
     "library": "var_list.py",
     "varRefreshCmd": "print(var_dic_list())"
    },
    "r": {
     "delete_cmd_postfix": ") ",
     "delete_cmd_prefix": "rm(",
     "library": "var_list.r",
     "varRefreshCmd": "cat(var_dic_list()) "
    }
   },
   "types_to_exclude": [
    "module",
    "function",
    "builtin_function_or_method",
    "instance",
    "_Feature"
   ],
   "window_display": false
  }
 },
 "nbformat": 4,
 "nbformat_minor": 2
}
