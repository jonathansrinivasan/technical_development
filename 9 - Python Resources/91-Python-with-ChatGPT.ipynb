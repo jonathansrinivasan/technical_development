{
 "cells": [
  {
   "cell_type": "markdown",
   "metadata": {
    "toc": true
   },
   "source": [
    "# **Using Python with ChatGPT (or with any Large Language Model)**"
   ]
  },
  {
   "cell_type": "markdown",
   "metadata": {},
   "source": [
    "-----------------------------------------------------------------------------------------------------------------------------------------------------"
   ]
  },
  {
   "cell_type": "markdown",
   "metadata": {},
   "source": [
    "## Prompt Engineering\n",
    "\n",
    "Prompt engineering is essentially the art of crafting questions or instructions (prompts) in a way that guides an AI to produce the desired outcome. This doesn't require traditional coding skills; rather, it's about communicating effectively with the AI.\n",
    "                             \n",
    "------------------------------------------------------------------------------------------------    \n",
    "\n",
    "## Best Practices\n",
    "\n",
    "### 1. Be Specific and Detailed             \n",
    "\n",
    "**Bad Example:** \"Load the data.\"                     \n",
    "**Good Example:** \"Using the pandas library, show how to read a CSV file.\"                                               \n",
    "\n",
    "### 2. Provide Context\n",
    "\n",
    "**Bad Example:** \"Filter rows.\"       \n",
    "**Good Example:** \"Exaplain how to filter rows in a pandas dataframe where the 'age' column is greater than 30.\"                                       \n",
    "\n",
    "### 3. Iterate and Refine\n",
    "\n",
    "**Initial Prompt:** \"What can I do with missing data?\"   \n",
    "**Refined Prompt:** \"Show me how to replace missing values in the 'salary' column of a pandas dataframe with the column's mean value.\"                          \n",
    "\n",
    "### 4. Use Examples\n",
    "\n",
    "**Bad Example:** \"Graph the data the same way as before.\"                        \n",
    "**Good Example:** \"Here is how you graphed the last dataset.\" *(Upload graph)* \"Can you pleae graph the following dataset in the same manner?\"                           \n",
    "\n",
    "### 5. Break Down Complex Requests\n",
    "\n",
    "**Bad Example:** \"Analyze the dataset.\"      \n",
    "**First Prompt:** \"How do I load a dataset into a pandas DataFrame?\"                                 \n",
    "**Second Prompt:** \"How can I summarize the data to see average values in each column?\"                                 \n",
    "\n",
    "*Note:* This technique is very useful when using prompt engineering for SQL queries. \n",
    "\n",
    "### 6. Experiment with Different Formats\n",
    "\n",
    "**Bad Example:** \"Make a pivot table.\"                       \n",
    "**Good Example:** \"Explain step-by-step how to create a pivot table in pandas, using 'month' as rows and sum of 'sales' as values.\"   \n",
    "\n",
    "*Personal Favorite:* When I run this code: [CODE], I get this error: [ERROR]. How do I fix the code?"
   ]
  },
  {
   "cell_type": "markdown",
   "metadata": {},
   "source": [
    "-----------------------------------------------------------------------------------------------------------------------------------------------------"
   ]
  },
  {
   "cell_type": "markdown",
   "metadata": {},
   "source": [
    "## !! What NOT to do in ChatGPT !!"
   ]
  },
  {
   "cell_type": "markdown",
   "metadata": {},
   "source": []
  }
 ],
 "metadata": {
  "kernelspec": {
   "display_name": "Python 3",
   "language": "python",
   "name": "python3"
  },
  "language_info": {
   "codemirror_mode": {
    "name": "ipython",
    "version": 3
   },
   "file_extension": ".py",
   "mimetype": "text/x-python",
   "name": "python",
   "nbconvert_exporter": "python",
   "pygments_lexer": "ipython3",
   "version": "3.9.6"
  },
  "toc": {
   "base_numbering": 1,
   "nav_menu": {},
   "number_sections": true,
   "sideBar": true,
   "skip_h1_title": true,
   "title_cell": "Table of Contents",
   "title_sidebar": "Contents",
   "toc_cell": true,
   "toc_position": {},
   "toc_section_display": true,
   "toc_window_display": true
  },
  "varInspector": {
   "cols": {
    "lenName": 16,
    "lenType": 16,
    "lenVar": 40
   },
   "kernels_config": {
    "python": {
     "delete_cmd_postfix": "",
     "delete_cmd_prefix": "del ",
     "library": "var_list.py",
     "varRefreshCmd": "print(var_dic_list())"
    },
    "r": {
     "delete_cmd_postfix": ") ",
     "delete_cmd_prefix": "rm(",
     "library": "var_list.r",
     "varRefreshCmd": "cat(var_dic_list()) "
    }
   },
   "types_to_exclude": [
    "module",
    "function",
    "builtin_function_or_method",
    "instance",
    "_Feature"
   ],
   "window_display": false
  }
 },
 "nbformat": 4,
 "nbformat_minor": 2
}
