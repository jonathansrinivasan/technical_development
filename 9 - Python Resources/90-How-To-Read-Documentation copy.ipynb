{
 "cells": [
  {
   "cell_type": "markdown",
   "metadata": {
    "toc": true
   },
   "source": [
    "# **How to Read Python Documentations**"
   ]
  },
  {
   "cell_type": "markdown",
   "metadata": {},
   "source": [
    "-----------------------------------------------------------------------------------------------------------------------------------------------------"
   ]
  },
  {
   "cell_type": "markdown",
   "metadata": {},
   "source": [
    "## Searching for API reference\n",
    "\n",
    "An API (Application Programming Interface) reference is a comprehensive guide that details how to interact with a software library or system. It outlines the available functions, classes, or methods, including how they're used, the required inputs (parameters), and what they return or produce. Essentially, it's like a detailed instruction manual for programmers, helping them understand how to use the library's features, even if they're not familiar with the specific programming language.\n",
    "\n",
    "To find the API reference of a Python library through web search, follow these steps:\n",
    "\n",
    "1. Open your web browser and go to your preferred web engine (Google, Firefox, Edge, etc).\n",
    "2. In the search bar, type the name of the Python library followed by \"API reference\". For example, if you're looking for the pandas library, you would type \"pandas API reference\".\n",
    "3. Press Enter to execute the search.\n",
    "4. Look through the search results for links that typically point to the official documentation of the library, often hosted on ReadTheDocs, GitHub, or the library's own domain.\n",
    "5. Click on the link that appears to be the official documentation. The URL often contains \"docs\", indicating it's a documentation page.\n",
    "6. Once on the documentation page, you can usually find the API reference in the table of contents or navigation menu, often under sections like \"API Reference\", \"Reference\", or \"API Documentation\".\n",
    "\n",
    "This will guide you to the most relevant and comprehensive information regarding the library's functionalities."
   ]
  },
  {
   "cell_type": "markdown",
   "metadata": {},
   "source": [
    "-----------------------------------------------------------------------------------------------------------------------------------------------------"
   ]
  },
  {
   "cell_type": "markdown",
   "metadata": {},
   "source": [
    "## Reading and Understanding an API"
   ]
  },
  {
   "cell_type": "markdown",
   "metadata": {},
   "source": [
    "Let's use the PANDAS library documentation as an example: \n",
    "[PANDAS API Reference](https://pandas.pydata.org/docs/reference/index.html)"
   ]
  },
  {
   "cell_type": "markdown",
   "metadata": {},
   "source": [
    "1. **Introduction**: Usually, there's an introduction section explaining what the documentation covers, including a brief overview of the library's purpose and its main features.\n",
    "\n",
    "<div>\n",
    "<img src=\"../img/api1.png\" width=\"700\"/>\n",
    "</div>"
   ]
  },
  {
   "cell_type": "markdown",
   "metadata": {},
   "source": [
    "2. **Table of Contents**: This lists the main sections of the API documentation, such as data structure definitions, function references, and module descriptions. It's your roadmap to understanding the library's capabilities.\n",
    "\n",
    "<div>\n",
    "<img src=\"../img/api2.png\" width=\"900\"/>\n",
    "</div>"
   ]
  },
  {
   "cell_type": "markdown",
   "metadata": {},
   "source": [
    "3. **Sections**: Each section typically covers a specific aspect of the library, like data manipulation functions, input/output operations, and visualization tools. Within these, you'll find:\n",
    "   - **Subsections** for more specific categories (e.g., dealing with missing data, data aggregation functions).\n",
    "\n",
    "<div>\n",
    "<img src=\"../img/api3.png\" width=\"900\"/>\n",
    "</div>\n",
    "\n",
    "   - **Function/Method Descriptions**: Detailed explanations of individual functions or methods, including their parameters, return values, and examples of use.\n",
    "\n",
    "<div>\n",
    "<img src=\"../img/api4.png\" width=\"700\"/>\n",
    "</div>"
   ]
  },
  {
   "cell_type": "markdown",
   "metadata": {},
   "source": [
    "4. **Indices and Tables**: Some documentation includes an index or tables section for quick reference to functions, classes, and methods."
   ]
  },
  {
   "cell_type": "markdown",
   "metadata": {},
   "source": [
    "5. **Examples**: Look for examples to see how the library's functions are used in practice. These can be invaluable for learning how to apply the library to solve real-world problems.\n",
    "\n",
    "<div>\n",
    "<img src=\"../img/api5.png\" width=\"700\"/>\n",
    "</div>"
   ]
  },
  {
   "cell_type": "markdown",
   "metadata": {},
   "source": [
    "6. **Search and Navigation Features**: Utilize search features and navigation aids to find specific information within the documentation. Or use CTRL+F to search the whole web page\n",
    "\n",
    "<div>\n",
    "<img src=\"../img/api6.png\" width=\"900\"/>\n",
    "</div>"
   ]
  }
 ],
 "metadata": {
  "kernelspec": {
   "display_name": "Python 3",
   "language": "python",
   "name": "python3"
  },
  "language_info": {
   "codemirror_mode": {
    "name": "ipython",
    "version": 3
   },
   "file_extension": ".py",
   "mimetype": "text/x-python",
   "name": "python",
   "nbconvert_exporter": "python",
   "pygments_lexer": "ipython3",
   "version": "3.9.6"
  },
  "toc": {
   "base_numbering": 1,
   "nav_menu": {},
   "number_sections": true,
   "sideBar": true,
   "skip_h1_title": true,
   "title_cell": "Table of Contents",
   "title_sidebar": "Contents",
   "toc_cell": true,
   "toc_position": {},
   "toc_section_display": true,
   "toc_window_display": true
  },
  "varInspector": {
   "cols": {
    "lenName": 16,
    "lenType": 16,
    "lenVar": 40
   },
   "kernels_config": {
    "python": {
     "delete_cmd_postfix": "",
     "delete_cmd_prefix": "del ",
     "library": "var_list.py",
     "varRefreshCmd": "print(var_dic_list())"
    },
    "r": {
     "delete_cmd_postfix": ") ",
     "delete_cmd_prefix": "rm(",
     "library": "var_list.r",
     "varRefreshCmd": "cat(var_dic_list()) "
    }
   },
   "types_to_exclude": [
    "module",
    "function",
    "builtin_function_or_method",
    "instance",
    "_Feature"
   ],
   "window_display": false
  }
 },
 "nbformat": 4,
 "nbformat_minor": 2
}
